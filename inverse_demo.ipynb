{
 "cells": [
  {
   "cell_type": "code",
   "execution_count": 18,
   "metadata": {
    "collapsed": true
   },
   "outputs": [],
   "source": [
    "from reverse_projection import ReverseProjection\n",
    "from sklearn.datasets import load_iris\n",
    "from sklearn.decomposition import PCA as TFer\n",
    "from sklearn.preprocessing import StandardScaler as Scaler\n",
    "import matplotlib.pyplot as plt"
   ]
  },
  {
   "cell_type": "code",
   "execution_count": 19,
   "outputs": [
    {
     "name": "stdout",
     "output_type": "stream",
     "text": [
      "[0 0 0 0 0 0 0 0 0 0 0 0 0 0 0 0 0 0 0 0 0 0 0 0 0 0 0 0 0 0 0 0 0 0 0 0 0\n",
      " 0 0 0 0 0 0 0 0 0 0 0 0 0 1 1 1 1 1 1 1 1 1 1 1 1 1 1 1 1 1 1 1 1 1 1 1 1\n",
      " 1 1 1 1 1 1 1 1 1 1 1 1 1 1 1 1 1 1 1 1 1 1 1 1 1 1 2 2 2 2 2 2 2 2 2 2 2\n",
      " 2 2 2 2 2 2 2 2 2 2 2 2 2 2 2 2 2 2 2 2 2 2 2 2 2 2 2 2 2 2 2 2 2 2 2 2 2\n",
      " 2 2]\n"
     ]
    }
   ],
   "source": [
    "X, y = load_iris(return_X_y=True)\n",
    "print(y)"
   ],
   "metadata": {
    "collapsed": false
   }
  },
  {
   "cell_type": "code",
   "execution_count": 20,
   "outputs": [],
   "source": [
    "scaler = Scaler().fit(X)\n",
    "scaled_X = scaler.transform(X)"
   ],
   "metadata": {
    "collapsed": false
   }
  },
  {
   "cell_type": "code",
   "execution_count": 21,
   "outputs": [],
   "source": [
    "# 降维\n",
    "transformer = TFer().fit(scaled_X)\n",
    "transformed_X = transformer.transform(scaled_X)"
   ],
   "metadata": {
    "collapsed": false
   }
  },
  {
   "cell_type": "code",
   "execution_count": 8,
   "outputs": [
    {
     "data": {
      "text/plain": "<Figure size 432x288 with 1 Axes>",
      "image/png": "[encoded data removed]"
     },
     "metadata": {
      "needs_background": "light"
     },
     "output_type": "display_data"
    }
   ],
   "source": [
    "# 画图\n",
    "plt.scatter(transformed_X[:,0],transformed_X[:,1])\n",
    "plt.show()"
   ],
   "metadata": {
    "collapsed": false
   }
  },
  {
   "cell_type": "code",
   "execution_count": 13,
   "outputs": [
    {
     "data": {
      "text/plain": "<Figure size 432x288 with 1 Axes>",
      "image/png": "[encoded data removed]"
     },
     "metadata": {
      "needs_background": "light"
     },
     "output_type": "display_data"
    }
   ],
   "source": [
    "# transformed_X[y ==0,0]#采用布尔索引\n",
    "\n",
    "#画出分类图\n",
    "plt.figure()#创建一个画布\n",
    "plt.scatter(transformed_X[y==0,0],transformed_X[y==0,1],c=\"red\",label = 'y=0')\n",
    "plt.scatter(transformed_X[y==1,0],transformed_X[y==1,1],c = \"black\",label = 'y=1')\n",
    "plt.scatter(transformed_X[y==2,0],transformed_X[y==2,1],c=\"orange\",label = 'y=2')\n",
    "plt.legend()#显示图例\n",
    "plt.title(\"PCA of IRIS dataset\")#显示标题\n",
    "plt.show()\n"
   ],
   "metadata": {
    "collapsed": false
   }
  },
  {
   "cell_type": "code",
   "execution_count": 22,
   "outputs": [],
   "source": [
    "# 调用ReverseProjection\n",
    "rp1 = ReverseProjection(\n",
    "    # 将零均值化后的特征传入feature_values，用于确定变量的上下限\n",
    "    feature_values=scaled_X,\n",
    "    # 传入PCA对象，用于构建降维前后的映射关系\n",
    "    transformer=transformer,\n",
    "    # 选择搜索方法\n",
    "    # scipy_minimize调用子scipy.minimize模块\n",
    "    # hpopt为此前所用的hyperopt模块\n",
    "    # method=\"scipy_minimize\",  # or hpopt\n",
    "    method=\"hpopt\",  # or hpopt\n",
    "    # 最大迭代数\n",
    "    iteration=1000,\n",
    "    # 阈值，达到阈值后，搜索会提前结束\n",
    "    criterion=0.001,\n",
    "    # 开启搜索过程的打印信息\n",
    "    verbose=False\n",
    ")"
   ],
   "metadata": {
    "collapsed": false
   }
  },
  {
   "cell_type": "code",
   "execution_count": 28,
   "outputs": [
    {
     "name": "stdout",
     "output_type": "stream",
     "text": [
      "{'points': [3.006595123372344, 0.01777869746673766], 'features': [1.96025101133139, -0.8820433215424606, 2.5912838669289995, 0.4312315032447576], 'feature_names': ['XX0', 'XX1', 'XX2', 'XX3']}\n",
      "[7.46113103 2.67416404 8.31711537 1.52693673]\n"
     ]
    }
   ],
   "source": [
    "# 调用search，并传入目标点，开始搜索\n",
    "# result = rp1.search([-2, -2])\n",
    "result = rp1.search([3, 0])\n",
    "print(result)\n",
    "inversed = scaler.inverse_transform(result['features'])\n",
    "print(inversed)\n",
    "# 目标点也可3维甚至高维\n",
    "# result = rp1.search([1, 2, 3])"
   ],
   "metadata": {
    "collapsed": false
   }
  },
  {
   "cell_type": "code",
   "execution_count": 29,
   "outputs": [
    {
     "name": "stdout",
     "output_type": "stream",
     "text": [
      "[1.78650327]\n"
     ]
    }
   ],
   "source": [
    "from sklearn.svm import SVR\n",
    "\n",
    "svr = SVR()\n",
    "svr.fit(scaled_X,y)\n",
    "# test_scaled_x= scaler.transform(X)\n",
    "test_X = [[7.46113103, 2.67416404, 8.31711537, 1.52693673]]\n",
    "pred = svr.predict(scaler.transform(test_X))\n",
    "print(pred)"
   ],
   "metadata": {
    "collapsed": false
   }
  },
  {
   "cell_type": "code",
   "execution_count": null,
   "outputs": [],
   "source": [
    "# 也可自定义变量的上下限\n",
    "# 格式为\n",
    "# ranges = dict(\n",
    "# x1 = [bottom, top],\n",
    "# x2 = [choice1, choice2, ...]\n",
    "# )\n",
    "# 比如load_iris的四个变量分别定义\n",
    "# 注意要用scale后的数据\n",
    "feature_ranges = dict(\n",
    "    x1=[-1.0, 0.0],\n",
    "    x2=[0.0, 1.0],\n",
    "    x3=[-1.34, -1.20],\n",
    "    x4=[-1.44, -1.31]\n",
    ")\n",
    "# 调用ReverseProjection\n",
    "rp1 = ReverseProjection(\n",
    "    feature_ranges=feature_ranges,\n",
    "    transformer=transformer\n",
    ")\n",
    "# hpopt 与 scipy_minimize的孰优孰劣\n",
    "# hpopt速度较慢一些，但可以传入choice比如[0, 1, 2]分别代表[高，中，低]\n",
    "# scipy_minimize相对地快不少，但只能做连续数值的优化"
   ],
   "metadata": {
    "collapsed": false
   }
  }
 ],
 "metadata": {
  "kernelspec": {
   "display_name": "Python 3",
   "language": "python",
   "name": "python3"
  },
  "language_info": {
   "codemirror_mode": {
    "name": "ipython",
    "version": 2
   },
   "file_extension": ".py",
   "mimetype": "text/x-python",
   "name": "python",
   "nbconvert_exporter": "python",
   "pygments_lexer": "ipython2",
   "version": "2.7.6"
  }
 },
 "nbformat": 4,
 "nbformat_minor": 0
}
